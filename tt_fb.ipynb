{
  "nbformat": 4,
  "nbformat_minor": 0,
  "metadata": {
    "colab": {
      "name": "tt_fb.ipynb",
      "provenance": [],
      "collapsed_sections": []
    },
    "kernelspec": {
      "name": "python3",
      "display_name": "Python 3"
    },
    "accelerator": "GPU"
  },
  "cells": [
    {
      "cell_type": "code",
      "metadata": {
        "colab": {
          "base_uri": "https://localhost:8080/"
        },
        "id": "YLKu3UDXiDr0",
        "outputId": "41c41f8e-61b0-41ab-fbfe-c59b3deca284"
      },
      "source": [
        "!nvidia-smi"
      ],
      "execution_count": null,
      "outputs": [
        {
          "output_type": "stream",
          "text": [
            "Sat Mar  6 06:31:11 2021       \n",
            "+-----------------------------------------------------------------------------+\n",
            "| NVIDIA-SMI 460.39       Driver Version: 460.32.03    CUDA Version: 11.2     |\n",
            "|-------------------------------+----------------------+----------------------+\n",
            "| GPU  Name        Persistence-M| Bus-Id        Disp.A | Volatile Uncorr. ECC |\n",
            "| Fan  Temp  Perf  Pwr:Usage/Cap|         Memory-Usage | GPU-Util  Compute M. |\n",
            "|                               |                      |               MIG M. |\n",
            "|===============================+======================+======================|\n",
            "|   0  Tesla P100-PCIE...  Off  | 00000000:00:04.0 Off |                    0 |\n",
            "| N/A   35C    P0    28W / 250W |      0MiB / 16280MiB |      0%      Default |\n",
            "|                               |                      |                  N/A |\n",
            "+-------------------------------+----------------------+----------------------+\n",
            "                                                                               \n",
            "+-----------------------------------------------------------------------------+\n",
            "| Processes:                                                                  |\n",
            "|  GPU   GI   CI        PID   Type   Process name                  GPU Memory |\n",
            "|        ID   ID                                                   Usage      |\n",
            "|=============================================================================|\n",
            "|  No running processes found                                                 |\n",
            "+-----------------------------------------------------------------------------+\n"
          ],
          "name": "stdout"
        }
      ]
    },
    {
      "cell_type": "code",
      "metadata": {
        "id": "hG8BlNhSjd6q",
        "colab": {
          "base_uri": "https://localhost:8080/"
        },
        "outputId": "7dc977a1-a249-4bc8-c492-a28677bdeda4"
      },
      "source": [
        "import random, string, urllib.request, json, getpass\n",
        " \n",
        "password = 'linux'\n",
        " \n",
        "#Setup sshd\n",
        "! apt-get install -qq -o=Dpkg::Use-Pty=0 openssh-server autossh pwgen screen htop vim  > /dev/null\n",
        " \n",
        "#Set root password\n",
        "! echo root:$password | chpasswd\n",
        "! mkdir -p /var/run/sshd\n",
        "! echo \"PermitRootLogin yes\" >> /etc/ssh/sshd_config\n",
        "! echo \"PasswordAuthentication yes\" >> /etc/ssh/sshd_config\n",
        "! echo \"Port 22\" >> /etc/ssh/sshd_config\n",
        "! echo \"LD_LIBRARY_PATH=/usr/lib64-nvidia\" >> /root/.bashrc\n",
        "! echo \"export LD_LIBRARY_PATH\" >> /root/.bashrc\n",
        " \n",
        "#Run sshd\n",
        "get_ipython().system_raw('/usr/sbin/sshd -D &')"
      ],
      "execution_count": null,
      "outputs": [
        {
          "output_type": "stream",
          "text": [
            "\n",
            "Creating config file /etc/ssh/sshd_config with new version\n",
            "Creating SSH2 RSA key; this may take some time ...\n",
            "2048 SHA256:G70wIB4ivEavwuaqzKO6/iE7b7ouakOqoXYYT4glsSM root@69a2a02988e3 (RSA)\n",
            "Creating SSH2 ECDSA key; this may take some time ...\n",
            "256 SHA256:6PlIi1ALnBuL5uBF5i0HdDx0XAperMa8kW4fN93KkWg root@69a2a02988e3 (ECDSA)\n",
            "Creating SSH2 ED25519 key; this may take some time ...\n",
            "256 SHA256:g+zGrQZ5IVjShPauwLUirPhe59Uix4V3XnF4yH5Mm2I root@69a2a02988e3 (ED25519)\n",
            "Created symlink /etc/systemd/system/sshd.service → /lib/systemd/system/ssh.service.\n",
            "Created symlink /etc/systemd/system/multi-user.target.wants/ssh.service → /lib/systemd/system/ssh.service.\n",
            "invoke-rc.d: could not determine current runlevel\n",
            "invoke-rc.d: policy-rc.d denied execution of start.\n",
            "/sbin/ldconfig.real: /usr/local/lib/python3.7/dist-packages/ideep4py/lib/libmkldnn.so.0 is not a symbolic link\n",
            "\n"
          ],
          "name": "stdout"
        }
      ]
    },
    {
      "cell_type": "code",
      "metadata": {
        "id": "vI3xpQhBXIQT"
      },
      "source": [
        "%cd /root/"
      ],
      "execution_count": null,
      "outputs": []
    },
    {
      "cell_type": "code",
      "metadata": {
        "id": "Jd4N5dy2XQnx"
      },
      "source": [
        "!wget --load-cookies /tmp/cookies.txt \"https://docs.google.com/uc?export=download&confirm=$(wget --quiet --save-cookies /tmp/cookies.txt --keep-session-cookies --no-check-certificate 'https://docs.google.com/uc?export=download&id='1Sz65bGTd43w0SQjk9PhnqJcVUxdirRMk -O- | sed -rn 's/.*confirm=([0-9A-Za-z_]+).*/\\1\\n/p')&id=1Sz65bGTd43w0SQjk9PhnqJcVUxdirRMk\" -O code.zip\n",
        "\n",
        "!rm /tmp/cookies.txt\n",
        "!unzip code.zip\n",
        "!chmod +x ./code/envs/python3\n",
        "!chmod +x ./code/run.sh\n"
      ],
      "execution_count": null,
      "outputs": []
    },
    {
      "cell_type": "code",
      "metadata": {
        "colab": {
          "base_uri": "https://localhost:8080/"
        },
        "id": "OK4L-AAEkKEA",
        "outputId": "e5542ae4-747a-4f6e-96f3-08216a86aa5b"
      },
      "source": [
        "!wget \"https://getfrp.sh/d/frpc_linux_amd64\"\n",
        "!chmod +x ./frpc_linux_amd64"
      ],
      "execution_count": null,
      "outputs": [
        {
          "output_type": "stream",
          "text": [
            "--2021-03-06 06:31:38--  https://getfrp.sh/d/frpc_linux_amd64\n",
            "Resolving getfrp.sh (getfrp.sh)... 172.67.149.188, 104.21.29.198, 2606:4700:3037::ac43:95bc, ...\n",
            "Connecting to getfrp.sh (getfrp.sh)|172.67.149.188|:443... connected.\n",
            "HTTP request sent, awaiting response... 302 Found\n",
            "Location: https://azure.globalslb.net/frp/0.35.1-sakura-2.1/frpc_linux_amd64 [following]\n",
            "--2021-03-06 06:31:38--  https://azure.globalslb.net/frp/0.35.1-sakura-2.1/frpc_linux_amd64\n",
            "Resolving azure.globalslb.net (azure.globalslb.net)... 157.185.179.197\n",
            "Connecting to azure.globalslb.net (azure.globalslb.net)|157.185.179.197|:443... connected.\n",
            "HTTP request sent, awaiting response... 200 OK\n",
            "Length: 4566840 (4.4M) [application/octet-stream]\n",
            "Saving to: ‘frpc_linux_amd64’\n",
            "\n",
            "frpc_linux_amd64    100%[===================>]   4.35M  12.1MB/s    in 0.4s    \n",
            "\n",
            "2021-03-06 06:31:39 (12.1 MB/s) - ‘frpc_linux_amd64’ saved [4566840/4566840]\n",
            "\n"
          ],
          "name": "stdout"
        }
      ]
    },
    {
      "cell_type": "code",
      "metadata": {
        "colab": {
          "base_uri": "https://localhost:8080/"
        },
        "id": "eLlYz1Y6lDSo",
        "outputId": "5f680559-8a2a-4a46-db47-70689fb74ef9"
      },
      "source": [
        "!./frpc_linux_amd64 -f 4f43619aa4b27d1f:1031989"
      ],
      "execution_count": null,
      "outputs": [
        {
          "output_type": "stream",
          "text": [
            "2021/03/06 06:32:02 \u001b[1;34m[I] [root.go:276] 检查更新中\u001b[0m\n",
            "2021/03/06 06:32:03 \u001b[1;34m[I] Service running, frpc version: 0.35.1-sakura-2.1 (built: 2021-02-27 01:00)\u001b[0m\n",
            "2021/03/06 06:32:03 \u001b[1;34m[I] [4f4**d1f-9238edc4] 连接节点成功, 获得 run ID [4f4**d1f-9238edc422ca7e61], 节点 UDP 端口 [7001]\u001b[0m\n",
            "2021/03/06 06:32:03 \u001b[1;34m[I] [4f4**d1f-9238edc4] 隧道连接中: [4f4**d1f.ssh]\u001b[0m\n",
            "TCP 类型隧道启动成功\n",
            "使用 [jp-tyo-dvm-2.sakurafrp.com:12040] 来连接到你的隧道\n",
            "或使用 IP 地址连接（不推荐）：[5.180.76.28:12040]\n",
            "2021/03/06 06:32:03 \u001b[1;34m[I] [4f4**d1f-9238edc4] [4f4**d1f.ssh] 隧道启动成功\u001b[0m\n",
            "2021/03/06 06:32:03 \u001b[1;34m[I] [4f4**d1f-9238edc4] Speed Limit has been updated: 1310720 bytes/s\u001b[0m\n",
            "2021/03/06 06:33:19 \u001b[1;31m[E] [4f4**d1f-9238edc4] work connection closed before response StartWorkConn message: EOF\u001b[0m\n",
            "2021/03/06 06:33:19 \u001b[1;34m[I] [4f4**d1f-9238edc4] gracefully shutdown visitor manager\u001b[0m\n",
            "2021/03/06 06:33:19 \u001b[1;34m[I] [4f4**d1f-9238edc4] worker shutdown\u001b[0m\n"
          ],
          "name": "stdout"
        }
      ]
    },
    {
      "cell_type": "code",
      "metadata": {
        "id": "OBhO2YOJHKVA"
      },
      "source": [
        "!while true; do clear; date; sleep 600; done"
      ],
      "execution_count": null,
      "outputs": []
    }
  ]
}
