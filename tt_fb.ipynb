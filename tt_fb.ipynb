{
  "nbformat": 4,
  "nbformat_minor": 0,
  "metadata": {
    "accelerator": "GPU",
    "colab": {
      "name": "tt_fb.ipynb",
      "provenance": [],
      "collapsed_sections": []
    },
    "kernelspec": {
      "display_name": "Python 3",
      "name": "python3"
    }
  },
  "cells": [
    {
      "cell_type": "code",
      "metadata": {
        "colab": {
          "base_uri": "https://localhost:8080/"
        },
        "id": "YLKu3UDXiDr0",
        "outputId": "6a1b7c66-0bbb-4ace-f03b-b05f479fa63c"
      },
      "source": [
        "!nvidia-smi"
      ],
      "execution_count": null,
      "outputs": [
        {
          "output_type": "stream",
          "text": [
            "Mon May  3 15:52:04 2021       \n",
            "+-----------------------------------------------------------------------------+\n",
            "| NVIDIA-SMI 465.19.01    Driver Version: 460.32.03    CUDA Version: 11.2     |\n",
            "|-------------------------------+----------------------+----------------------+\n",
            "| GPU  Name        Persistence-M| Bus-Id        Disp.A | Volatile Uncorr. ECC |\n",
            "| Fan  Temp  Perf  Pwr:Usage/Cap|         Memory-Usage | GPU-Util  Compute M. |\n",
            "|                               |                      |               MIG M. |\n",
            "|===============================+======================+======================|\n",
            "|   0  Tesla V100-SXM2...  Off  | 00000000:00:04.0 Off |                    0 |\n",
            "| N/A   34C    P0    24W / 300W |      0MiB / 16160MiB |      0%      Default |\n",
            "|                               |                      |                  N/A |\n",
            "+-------------------------------+----------------------+----------------------+\n",
            "                                                                               \n",
            "+-----------------------------------------------------------------------------+\n",
            "| Processes:                                                                  |\n",
            "|  GPU   GI   CI        PID   Type   Process name                  GPU Memory |\n",
            "|        ID   ID                                                   Usage      |\n",
            "|=============================================================================|\n",
            "|  No running processes found                                                 |\n",
            "+-----------------------------------------------------------------------------+\n"
          ],
          "name": "stdout"
        }
      ]
    },
    {
      "cell_type": "code",
      "metadata": {
        "colab": {
          "base_uri": "https://localhost:8080/"
        },
        "id": "hG8BlNhSjd6q",
        "outputId": "230f95f0-2be3-4e36-8a87-21f7d9562557"
      },
      "source": [
        "import random, string, urllib.request, json, getpass\n",
        " \n",
        "password = 'linux'\n",
        " \n",
        "#Setup sshd\n",
        "! apt-get install -qq -o=Dpkg::Use-Pty=0 openssh-server autossh pwgen screen htop vim  > /dev/null\n",
        " \n",
        "#Set root password\n",
        "! echo root:$password | chpasswd\n",
        "! mkdir -p /var/run/sshd\n",
        "! echo \"PermitRootLogin yes\" >> /etc/ssh/sshd_config\n",
        "! echo \"PasswordAuthentication yes\" >> /etc/ssh/sshd_config\n",
        "! echo \"Port 22\" >> /etc/ssh/sshd_config\n",
        "! echo \"LD_LIBRARY_PATH=/usr/lib64-nvidia\" >> /root/.bashrc\n",
        "! echo \"export LD_LIBRARY_PATH\" >> /root/.bashrc\n",
        " \n",
        "#Run sshd\n",
        "get_ipython().system_raw('/usr/sbin/sshd -D &')"
      ],
      "execution_count": null,
      "outputs": [
        {
          "output_type": "stream",
          "text": [
            "\n",
            "Creating config file /etc/ssh/sshd_config with new version\n",
            "Creating SSH2 RSA key; this may take some time ...\n",
            "2048 SHA256:MwiE42TKf0TBEBHV0dzulgDKA3DHj5B2cmQ6PEo+ZBY root@081fcd359445 (RSA)\n",
            "Creating SSH2 ECDSA key; this may take some time ...\n",
            "256 SHA256:Y2yKpKUKBwlECXgYguT4PYRiRIpsQqDmvWTZxxzBKQ0 root@081fcd359445 (ECDSA)\n",
            "Creating SSH2 ED25519 key; this may take some time ...\n",
            "256 SHA256:Y/YV6mMRd/N+Gj4gMNddIH6YLpbTAe/xq8mQgfnZZrY root@081fcd359445 (ED25519)\n",
            "Created symlink /etc/systemd/system/sshd.service → /lib/systemd/system/ssh.service.\n",
            "Created symlink /etc/systemd/system/multi-user.target.wants/ssh.service → /lib/systemd/system/ssh.service.\n",
            "invoke-rc.d: could not determine current runlevel\n",
            "invoke-rc.d: policy-rc.d denied execution of start.\n",
            "/sbin/ldconfig.real: /usr/local/lib/python3.7/dist-packages/ideep4py/lib/libmkldnn.so.0 is not a symbolic link\n",
            "\n"
          ],
          "name": "stdout"
        }
      ]
    },
    {
      "cell_type": "code",
      "metadata": {
        "colab": {
          "base_uri": "https://localhost:8080/"
        },
        "id": "vI3xpQhBXIQT",
        "outputId": "a22e7a8e-7870-4ca6-eba9-af5a7aa295c9"
      },
      "source": [
        "%cd /root/"
      ],
      "execution_count": null,
      "outputs": [
        {
          "output_type": "stream",
          "text": [
            "/root\n"
          ],
          "name": "stdout"
        }
      ]
    },
    {
      "cell_type": "code",
      "metadata": {
        "colab": {
          "base_uri": "https://localhost:8080/"
        },
        "id": "Jd4N5dy2XQnx",
        "outputId": "d9fbcfd3-089c-4dfc-bace-4e573ee04511"
      },
      "source": [
        "!wget --load-cookies /tmp/cookies.txt \"https://docs.google.com/uc?export=download&confirm=$(wget --quiet --save-cookies /tmp/cookies.txt --keep-session-cookies --no-check-certificate 'https://docs.google.com/uc?export=download&id='$ID -O- | sed -rn 's/.*confirm=([0-9A-Za-z_]+).*/\\1\\n/p')&id=1Sz65bGTd43w0SQjk9PhnqJcVUxdirRMk\" -O code.zip\n",
        "\n",
        "!rm /tmp/cookies.txt\n",
        "!unzip code.zip\n",
        "!chmod +x ./code/envs/python3\n",
        "!chmod +x ./code/run.sh\n"
      ],
      "execution_count": null,
      "outputs": [
        {
          "output_type": "stream",
          "text": [
            "--2021-05-03 15:52:22--  https://docs.google.com/uc?export=download&confirm=&id=1Sz65bGTd43w0SQjk9PhnqJcVUxdirRMk\n",
            "Resolving docs.google.com (docs.google.com)... 108.177.119.102, 108.177.119.113, 108.177.119.100, ...\n",
            "Connecting to docs.google.com (docs.google.com)|108.177.119.102|:443... connected.\n",
            "HTTP request sent, awaiting response... 302 Moved Temporarily\n",
            "Location: https://doc-0s-8g-docs.googleusercontent.com/docs/securesc/ggcd5i1q7660blvgsdcj3gb31snmkamm/26usjhpd98iovutkiivj0ep4fj4aqn1g/1620057075000/15119200590010071947/11781775044712584578Z/1Sz65bGTd43w0SQjk9PhnqJcVUxdirRMk?e=download [following]\n",
            "--2021-05-03 15:52:24--  https://doc-0s-8g-docs.googleusercontent.com/docs/securesc/ggcd5i1q7660blvgsdcj3gb31snmkamm/26usjhpd98iovutkiivj0ep4fj4aqn1g/1620057075000/15119200590010071947/11781775044712584578Z/1Sz65bGTd43w0SQjk9PhnqJcVUxdirRMk?e=download\n",
            "Resolving doc-0s-8g-docs.googleusercontent.com (doc-0s-8g-docs.googleusercontent.com)... 108.177.119.132, 2a00:1450:4013:c00::84\n",
            "Connecting to doc-0s-8g-docs.googleusercontent.com (doc-0s-8g-docs.googleusercontent.com)|108.177.119.132|:443... connected.\n",
            "HTTP request sent, awaiting response... 302 Found\n",
            "Location: https://docs.google.com/nonceSigner?nonce=6omja0d21776e&continue=https://doc-0s-8g-docs.googleusercontent.com/docs/securesc/ggcd5i1q7660blvgsdcj3gb31snmkamm/26usjhpd98iovutkiivj0ep4fj4aqn1g/1620057075000/15119200590010071947/11781775044712584578Z/1Sz65bGTd43w0SQjk9PhnqJcVUxdirRMk?e%3Ddownload&hash=3oiub0f5fgtsvp81s4g7vg821vrsheve [following]\n",
            "--2021-05-03 15:52:24--  https://docs.google.com/nonceSigner?nonce=6omja0d21776e&continue=https://doc-0s-8g-docs.googleusercontent.com/docs/securesc/ggcd5i1q7660blvgsdcj3gb31snmkamm/26usjhpd98iovutkiivj0ep4fj4aqn1g/1620057075000/15119200590010071947/11781775044712584578Z/1Sz65bGTd43w0SQjk9PhnqJcVUxdirRMk?e%3Ddownload&hash=3oiub0f5fgtsvp81s4g7vg821vrsheve\n",
            "Connecting to docs.google.com (docs.google.com)|108.177.119.102|:443... connected.\n",
            "HTTP request sent, awaiting response... 302 Found\n",
            "Location: https://doc-0s-8g-docs.googleusercontent.com/docs/securesc/ggcd5i1q7660blvgsdcj3gb31snmkamm/26usjhpd98iovutkiivj0ep4fj4aqn1g/1620057075000/15119200590010071947/11781775044712584578Z/1Sz65bGTd43w0SQjk9PhnqJcVUxdirRMk?e=download&nonce=6omja0d21776e&user=11781775044712584578Z&hash=mlmdv7sabkis0qr43s4tb9b8fop3i5u3 [following]\n",
            "--2021-05-03 15:52:25--  https://doc-0s-8g-docs.googleusercontent.com/docs/securesc/ggcd5i1q7660blvgsdcj3gb31snmkamm/26usjhpd98iovutkiivj0ep4fj4aqn1g/1620057075000/15119200590010071947/11781775044712584578Z/1Sz65bGTd43w0SQjk9PhnqJcVUxdirRMk?e=download&nonce=6omja0d21776e&user=11781775044712584578Z&hash=mlmdv7sabkis0qr43s4tb9b8fop3i5u3\n",
            "Connecting to doc-0s-8g-docs.googleusercontent.com (doc-0s-8g-docs.googleusercontent.com)|108.177.119.132|:443... connected.\n",
            "HTTP request sent, awaiting response... 200 OK\n",
            "Length: unspecified [application/zip]\n",
            "Saving to: ‘code.zip’\n",
            "\n",
            "code.zip                [ <=>                ]   2.75M  --.-KB/s    in 0.03s   \n",
            "\n",
            "2021-05-03 15:52:25 (90.8 MB/s) - ‘code.zip’ saved [2883289]\n",
            "\n",
            "Archive:  code.zip\n",
            "   creating: code/\n",
            "  inflating: code/enc.py             \n",
            "  inflating: code/run.sh             \n",
            "  inflating: code/dog.sh             \n",
            "  inflating: code/cuda_postprocess.cpython-37m-x86_64-linux-gnu.so  \n",
            "   creating: code/__pycache__/\n",
            "  inflating: code/__pycache__/datasets.cpython-37.pyc  \n",
            "  inflating: code/__pycache__/augment.cpython-37.pyc  \n",
            "  inflating: code/enc.sh             \n",
            "   creating: code/configs/\n",
            "  inflating: code/configs/config.yml  \n",
            "  inflating: code/configs/.config.yml.un~  \n",
            "   creating: code/dnnlib/\n",
            "  inflating: code/dnnlib/__init__.py  \n",
            "  inflating: code/dnnlib/util.py     \n",
            "   creating: code/dnnlib/__pycache__/\n",
            "  inflating: code/dnnlib/__pycache__/__init__.cpython-37.pyc  \n",
            "  inflating: code/dnnlib/__pycache__/util.cpython-37.pyc  \n",
            "   creating: code/models/\n",
            "  inflating: code/models/networks.py  \n",
            "  inflating: code/models/base_model.py  \n",
            "  inflating: code/models/exp.py      \n",
            "  inflating: code/models/Segmenter.py  \n",
            "  inflating: code/models/autoencoder_model.py  \n",
            "  inflating: code/models/__init__.py  \n",
            "  inflating: code/models/test_model.py  \n",
            "  inflating: code/models/TTT.py      \n",
            "  inflating: code/models/ost.py      \n",
            "  inflating: code/models/.ost.py.un~  \n",
            "  inflating: code/models/SSS.py      \n",
            "  inflating: code/models/SIFA.py     \n",
            "  inflating: code/models/SIFA_da.py  \n",
            "  inflating: code/models/TTT2.py     \n",
            "   creating: code/models/__pycache__/\n",
            "  inflating: code/models/__pycache__/SIFA.cpython-37.pyc  \n",
            "  inflating: code/models/__pycache__/TTT2.cpython-37.pyc  \n",
            "  inflating: code/models/__pycache__/networks.cpython-37.pyc  \n",
            "  inflating: code/models/__pycache__/base_model.cpython-37.pyc  \n",
            "  inflating: code/models/__pycache__/ost.cpython-37.pyc  \n",
            "  inflating: code/models/__pycache__/__init__.cpython-37.pyc  \n",
            "  inflating: code/models/__pycache__/exp.cpython-37.pyc  \n",
            "  inflating: code/models/__pycache__/SSS.cpython-37.pyc  \n",
            "  inflating: code/models/__pycache__/TTT.cpython-37.pyc  \n",
            "   creating: code/options/\n",
            "  inflating: code/options/train_options.py  \n",
            "  inflating: code/options/test_options.py  \n",
            "  inflating: code/options/base_options.py  \n",
            "   creating: code/options/__pycache__/\n",
            "  inflating: code/options/__pycache__/train_options.cpython-37.pyc  \n",
            "  inflating: code/options/__pycache__/base_options.cpython-37.pyc  \n",
            "   creating: code/torch_utils/\n",
            "  inflating: code/torch_utils/__init__.py  \n",
            "  inflating: code/torch_utils/custom_ops.py  \n",
            "  inflating: code/torch_utils/misc.py  \n",
            "   creating: code/torch_utils/ops/\n",
            "  inflating: code/torch_utils/ops/__init__.py  \n",
            "  inflating: code/torch_utils/ops/bias_act.cpp  \n",
            "  inflating: code/torch_utils/ops/bias_act.cu  \n",
            "  inflating: code/torch_utils/ops/bias_act.h  \n",
            "  inflating: code/torch_utils/ops/bias_act.py  \n",
            "  inflating: code/torch_utils/ops/conv2d_gradfix.py  \n",
            "  inflating: code/torch_utils/ops/conv2d_resample.py  \n",
            "  inflating: code/torch_utils/ops/fma.py  \n",
            "  inflating: code/torch_utils/ops/grid_sample_gradfix.py  \n",
            "  inflating: code/torch_utils/ops/upfirdn2d.cpp  \n",
            "  inflating: code/torch_utils/ops/upfirdn2d.cu  \n",
            "  inflating: code/torch_utils/ops/upfirdn2d.h  \n",
            "  inflating: code/torch_utils/ops/upfirdn2d.py  \n",
            "   creating: code/torch_utils/ops/__pycache__/\n",
            "  inflating: code/torch_utils/ops/__pycache__/__init__.cpython-37.pyc  \n",
            "  inflating: code/torch_utils/ops/__pycache__/upfirdn2d.cpython-37.pyc  \n",
            "  inflating: code/torch_utils/ops/__pycache__/conv2d_gradfix.cpython-37.pyc  \n",
            "  inflating: code/torch_utils/ops/__pycache__/grid_sample_gradfix.cpython-37.pyc  \n",
            "  inflating: code/torch_utils/persistence.py  \n",
            "  inflating: code/torch_utils/training_stats.py  \n",
            "   creating: code/torch_utils/__pycache__/\n",
            "  inflating: code/torch_utils/__pycache__/__init__.cpython-37.pyc  \n",
            "  inflating: code/torch_utils/__pycache__/persistence.cpython-37.pyc  \n",
            "  inflating: code/torch_utils/__pycache__/misc.cpython-37.pyc  \n",
            "  inflating: code/torch_utils/__pycache__/custom_ops.cpython-37.pyc  \n",
            "   creating: code/util/\n",
            "  inflating: code/util/html.py       \n",
            "  inflating: code/util/util.py       \n",
            "  inflating: code/util/__init__.py   \n",
            "  inflating: code/util/get_data.py   \n",
            "  inflating: code/util/image_pool.py  \n",
            "  inflating: code/util/visualizer.py  \n",
            "  inflating: code/util/preprocess_data.py  \n",
            "  inflating: code/util/FID.py        \n",
            "   creating: code/util/__pycache__/\n",
            "  inflating: code/util/__pycache__/__init__.cpython-37.pyc  \n",
            "  inflating: code/util/__pycache__/util.cpython-37.pyc  \n",
            "  inflating: code/util/__pycache__/visualizer.cpython-37.pyc  \n",
            "  inflating: code/util/__pycache__/html.cpython-37.pyc  \n",
            "  inflating: code/util/__pycache__/image_pool.cpython-37.pyc  \n",
            "  inflating: code/augment.py         \n",
            "  inflating: code/datasets.py        \n",
            "  inflating: code/exp1.py            \n",
            "  inflating: code/exp2.py            \n",
            "  inflating: code/ogan.py            \n",
            "  inflating: code/save_features.py   \n",
            "  inflating: code/save_image_features.py  \n",
            "  inflating: code/tmp.py             \n",
            "  inflating: code/train.py           \n",
            "  inflating: code/visualize_features.m  \n",
            "  inflating: code/visualize_IM_features.m  \n",
            "chmod: cannot access './code/envs/python3': No such file or directory\n"
          ],
          "name": "stdout"
        }
      ]
    },
    {
      "cell_type": "code",
      "metadata": {
        "colab": {
          "base_uri": "https://localhost:8080/"
        },
        "id": "OK4L-AAEkKEA",
        "outputId": "e7cfe9cd-73ba-442e-94fd-23c47588b8de"
      },
      "source": [
        "#!wget \"https://getfrp.sh/d/frpc_linux_amd64\"\n",
        "#!chmod +x ./frpc_linux_amd64"
      ],
      "execution_count": null,
      "outputs": [
        {
          "output_type": "stream",
          "text": [
            "--2021-05-03 15:52:26--  https://getfrp.sh/d/frpc_linux_amd64\n",
            "Resolving getfrp.sh (getfrp.sh)... 172.67.149.188, 104.21.29.198, 2606:4700:3037::ac43:95bc, ...\n",
            "Connecting to getfrp.sh (getfrp.sh)|172.67.149.188|:443... connected.\n",
            "HTTP request sent, awaiting response... 302 Found\n",
            "Location: https://azure.globalslb.net/frp/0.36.1-sakura-1/frpc_linux_amd64 [following]\n",
            "--2021-05-03 15:52:26--  https://azure.globalslb.net/frp/0.36.1-sakura-1/frpc_linux_amd64\n",
            "Resolving azure.globalslb.net (azure.globalslb.net)... 163.171.140.79\n",
            "Connecting to azure.globalslb.net (azure.globalslb.net)|163.171.140.79|:443... connected.\n",
            "HTTP request sent, awaiting response... 200 OK\n",
            "Length: 4565008 (4.4M) [application/octet-stream]\n",
            "Saving to: ‘frpc_linux_amd64’\n",
            "\n",
            "frpc_linux_amd64    100%[===================>]   4.35M  24.8MB/s    in 0.2s    \n",
            "\n",
            "2021-05-03 15:52:27 (24.8 MB/s) - ‘frpc_linux_amd64’ saved [4565008/4565008]\n",
            "\n"
          ],
          "name": "stdout"
        }
      ]
    },
    {
      "cell_type": "code",
      "metadata": {
        "id": "eLlYz1Y6lDSo"
      },
      "source": [
        "#!./frpc_linux_amd64 -f 4f43619aa4b27d1f:1031989"
      ],
      "execution_count": null,
      "outputs": []
    },
    {
      "cell_type": "code",
      "metadata": {
        "colab": {
          "base_uri": "https://localhost:8080/"
        },
        "id": "OBhO2YOJHKVA",
        "outputId": "e4c0fe3e-e3a0-408a-de07-a43d98837178"
      },
      "source": [
        "!while true; do clear; date; sleep 600; done"
      ],
      "execution_count": null,
      "outputs": [
        {
          "output_type": "stream",
          "text": [
            "\u001b[H\u001b[2JMon May  3 15:52:27 UTC 2021\n",
            "\u001b[H\u001b[2JMon May  3 16:02:27 UTC 2021\n",
            "\u001b[H\u001b[2JMon May  3 16:12:27 UTC 2021\n",
            "\u001b[H\u001b[2JMon May  3 16:22:27 UTC 2021\n",
            "\u001b[H\u001b[2JMon May  3 16:32:27 UTC 2021\n",
            "\u001b[H\u001b[2JMon May  3 16:42:27 UTC 2021\n",
            "\u001b[H\u001b[2JMon May  3 16:52:27 UTC 2021\n",
            "\u001b[H\u001b[2JMon May  3 17:02:27 UTC 2021\n",
            "\u001b[H\u001b[2JMon May  3 17:12:27 UTC 2021\n",
            "\u001b[H\u001b[2JMon May  3 17:22:27 UTC 2021\n",
            "\u001b[H\u001b[2JMon May  3 17:32:27 UTC 2021\n",
            "\u001b[H\u001b[2JMon May  3 17:42:27 UTC 2021\n",
            "\u001b[H\u001b[2JMon May  3 17:52:27 UTC 2021\n",
            "\u001b[H\u001b[2JMon May  3 18:02:27 UTC 2021\n",
            "\u001b[H\u001b[2JMon May  3 18:12:27 UTC 2021\n",
            "\u001b[H\u001b[2JMon May  3 18:22:27 UTC 2021\n",
            "\u001b[H\u001b[2JMon May  3 18:32:27 UTC 2021\n",
            "\u001b[H\u001b[2JMon May  3 18:42:27 UTC 2021\n",
            "\u001b[H\u001b[2JMon May  3 18:52:27 UTC 2021\n",
            "\u001b[H\u001b[2JMon May  3 19:02:27 UTC 2021\n",
            "\u001b[H\u001b[2JMon May  3 19:12:27 UTC 2021\n",
            "\u001b[H\u001b[2JMon May  3 19:22:27 UTC 2021\n",
            "\u001b[H\u001b[2JMon May  3 19:32:27 UTC 2021\n",
            "\u001b[H\u001b[2JMon May  3 19:42:27 UTC 2021\n",
            "\u001b[H\u001b[2JMon May  3 19:52:27 UTC 2021\n",
            "\u001b[H\u001b[2JMon May  3 20:02:27 UTC 2021\n",
            "\u001b[H\u001b[2JMon May  3 20:12:27 UTC 2021\n",
            "\u001b[H\u001b[2JMon May  3 20:22:27 UTC 2021\n",
            "\u001b[H\u001b[2JMon May  3 20:32:27 UTC 2021\n",
            "\u001b[H\u001b[2JMon May  3 20:42:27 UTC 2021\n",
            "\u001b[H\u001b[2JMon May  3 20:52:27 UTC 2021\n",
            "\u001b[H\u001b[2JMon May  3 21:02:27 UTC 2021\n",
            "\u001b[H\u001b[2JMon May  3 21:12:28 UTC 2021\n",
            "\u001b[H\u001b[2JMon May  3 21:22:28 UTC 2021\n",
            "\u001b[H\u001b[2JMon May  3 21:32:28 UTC 2021\n",
            "\u001b[H\u001b[2JMon May  3 21:42:28 UTC 2021\n",
            "\u001b[H\u001b[2JMon May  3 21:52:28 UTC 2021\n",
            "\u001b[H\u001b[2JMon May  3 22:02:28 UTC 2021\n",
            "\u001b[H\u001b[2JMon May  3 22:12:28 UTC 2021\n",
            "\u001b[H\u001b[2JMon May  3 22:22:28 UTC 2021\n",
            "\u001b[H\u001b[2JMon May  3 22:32:28 UTC 2021\n",
            "\u001b[H\u001b[2JMon May  3 22:42:28 UTC 2021\n",
            "\u001b[H\u001b[2JMon May  3 22:52:28 UTC 2021\n",
            "\u001b[H\u001b[2JMon May  3 23:02:28 UTC 2021\n",
            "\u001b[H\u001b[2JMon May  3 23:12:28 UTC 2021\n",
            "\u001b[H\u001b[2JMon May  3 23:22:28 UTC 2021\n",
            "\u001b[H\u001b[2JMon May  3 23:32:28 UTC 2021\n",
            "\u001b[H\u001b[2JMon May  3 23:42:28 UTC 2021\n",
            "\u001b[H\u001b[2JMon May  3 23:52:28 UTC 2021\n",
            "\u001b[H\u001b[2JTue May  4 00:02:28 UTC 2021\n",
            "\u001b[H\u001b[2JTue May  4 00:12:28 UTC 2021\n",
            "\u001b[H\u001b[2JTue May  4 00:22:28 UTC 2021\n",
            "\u001b[H\u001b[2JTue May  4 00:32:28 UTC 2021\n",
            "\u001b[H\u001b[2JTue May  4 00:42:28 UTC 2021\n",
            "\u001b[H\u001b[2JTue May  4 00:52:28 UTC 2021\n",
            "\u001b[H\u001b[2JTue May  4 01:02:28 UTC 2021\n",
            "\u001b[H\u001b[2JTue May  4 01:12:28 UTC 2021\n",
            "\u001b[H\u001b[2JTue May  4 01:22:28 UTC 2021\n",
            "\u001b[H\u001b[2JTue May  4 01:32:28 UTC 2021\n",
            "\u001b[H\u001b[2JTue May  4 01:42:28 UTC 2021\n",
            "\u001b[H\u001b[2JTue May  4 01:52:28 UTC 2021\n",
            "\u001b[H\u001b[2JTue May  4 02:02:28 UTC 2021\n",
            "\u001b[H\u001b[2JTue May  4 02:12:28 UTC 2021\n",
            "\u001b[H\u001b[2JTue May  4 02:22:28 UTC 2021\n",
            "\u001b[H\u001b[2JTue May  4 02:32:28 UTC 2021\n",
            "\u001b[H\u001b[2JTue May  4 02:42:28 UTC 2021\n",
            "\u001b[H\u001b[2JTue May  4 02:52:28 UTC 2021\n",
            "\u001b[H\u001b[2JTue May  4 03:02:28 UTC 2021\n",
            "\u001b[H\u001b[2JTue May  4 03:12:28 UTC 2021\n",
            "\u001b[H\u001b[2JTue May  4 03:22:28 UTC 2021\n",
            "\u001b[H\u001b[2JTue May  4 03:32:28 UTC 2021\n",
            "\u001b[H\u001b[2JTue May  4 03:42:28 UTC 2021\n",
            "\u001b[H\u001b[2JTue May  4 03:52:28 UTC 2021\n",
            "\u001b[H\u001b[2JTue May  4 04:02:28 UTC 2021\n",
            "\u001b[H\u001b[2JTue May  4 04:12:28 UTC 2021\n",
            "\u001b[H\u001b[2JTue May  4 04:22:28 UTC 2021\n",
            "\u001b[H\u001b[2JTue May  4 04:32:28 UTC 2021\n",
            "\u001b[H\u001b[2JTue May  4 04:42:28 UTC 2021\n",
            "\u001b[H\u001b[2JTue May  4 04:52:28 UTC 2021\n",
            "\u001b[H\u001b[2JTue May  4 05:02:28 UTC 2021\n",
            "\u001b[H\u001b[2JTue May  4 05:12:28 UTC 2021\n",
            "\u001b[H\u001b[2JTue May  4 05:22:28 UTC 2021\n",
            "\u001b[H\u001b[2JTue May  4 05:32:28 UTC 2021\n",
            "\u001b[H\u001b[2JTue May  4 05:42:28 UTC 2021\n",
            "\u001b[H\u001b[2JTue May  4 05:52:28 UTC 2021\n",
            "\u001b[H\u001b[2JTue May  4 06:02:28 UTC 2021\n",
            "\u001b[H\u001b[2JTue May  4 06:12:28 UTC 2021\n",
            "\u001b[H\u001b[2JTue May  4 06:22:28 UTC 2021\n",
            "\u001b[H\u001b[2JTue May  4 06:32:28 UTC 2021\n",
            "\u001b[H\u001b[2JTue May  4 06:42:28 UTC 2021\n",
            "\u001b[H\u001b[2JTue May  4 06:52:28 UTC 2021\n",
            "\u001b[H\u001b[2JTue May  4 07:02:28 UTC 2021\n",
            "\u001b[H\u001b[2JTue May  4 07:12:28 UTC 2021\n"
          ],
          "name": "stdout"
        }
      ]
    }
  ]
}