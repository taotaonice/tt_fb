{
  "nbformat": 4,
  "nbformat_minor": 0,
  "metadata": {
    "colab": {
      "name": "tt_fb_aux.ipynb",
      "provenance": [],
      "collapsed_sections": []
    },
    "kernelspec": {
      "name": "python3",
      "display_name": "Python 3"
    },
    "accelerator": "GPU"
  },
  "cells": [
    {
      "cell_type": "code",
      "metadata": {
        "colab": {
          "base_uri": "https://localhost:8080/"
        },
        "id": "YLKu3UDXiDr0",
        "outputId": "a875ba40-4d3c-463c-8424-79a11321b209"
      },
      "source": [
        "!nvidia-smi"
      ],
      "execution_count": 2,
      "outputs": [
        {
          "output_type": "stream",
          "text": [
            "Mon Apr 12 12:19:29 2021       \n",
            "+-----------------------------------------------------------------------------+\n",
            "| NVIDIA-SMI 460.67       Driver Version: 460.32.03    CUDA Version: 11.2     |\n",
            "|-------------------------------+----------------------+----------------------+\n",
            "| GPU  Name        Persistence-M| Bus-Id        Disp.A | Volatile Uncorr. ECC |\n",
            "| Fan  Temp  Perf  Pwr:Usage/Cap|         Memory-Usage | GPU-Util  Compute M. |\n",
            "|                               |                      |               MIG M. |\n",
            "|===============================+======================+======================|\n",
            "|   0  Tesla T4            Off  | 00000000:00:04.0 Off |                    0 |\n",
            "| N/A   59C    P8    11W /  70W |      0MiB / 15109MiB |      0%      Default |\n",
            "|                               |                      |                  N/A |\n",
            "+-------------------------------+----------------------+----------------------+\n",
            "                                                                               \n",
            "+-----------------------------------------------------------------------------+\n",
            "| Processes:                                                                  |\n",
            "|  GPU   GI   CI        PID   Type   Process name                  GPU Memory |\n",
            "|        ID   ID                                                   Usage      |\n",
            "|=============================================================================|\n",
            "|  No running processes found                                                 |\n",
            "+-----------------------------------------------------------------------------+\n"
          ],
          "name": "stdout"
        }
      ]
    },
    {
      "cell_type": "code",
      "metadata": {
        "id": "hG8BlNhSjd6q"
      },
      "source": [
        "import random, string, urllib.request, json, getpass\n",
        " \n",
        "password = 'linux'\n",
        " \n",
        "#Setup sshd\n",
        "! apt-get install -qq -o=Dpkg::Use-Pty=0 openssh-server autossh pwgen screen htop vim  > /dev/null\n",
        " \n",
        "#Set root password\n",
        "! echo root:$password | chpasswd\n",
        "! mkdir -p /var/run/sshd\n",
        "! echo \"PermitRootLogin yes\" >> /etc/ssh/sshd_config\n",
        "! echo \"PasswordAuthentication yes\" >> /etc/ssh/sshd_config\n",
        "! echo \"Port 22\" >> /etc/ssh/sshd_config\n",
        "! echo \"LD_LIBRARY_PATH=/usr/lib64-nvidia\" >> /root/.bashrc\n",
        "! echo \"export LD_LIBRARY_PATH\" >> /root/.bashrc\n",
        " \n",
        "#Run sshd\n",
        "get_ipython().system_raw('/usr/sbin/sshd -D &')"
      ],
      "execution_count": null,
      "outputs": []
    },
    {
      "cell_type": "code",
      "metadata": {
        "id": "vI3xpQhBXIQT",
        "colab": {
          "base_uri": "https://localhost:8080/"
        },
        "outputId": "09a0963f-915b-44e5-a40c-da58c502111a"
      },
      "source": [
        "%cd /root/"
      ],
      "execution_count": 4,
      "outputs": [
        {
          "output_type": "stream",
          "text": [
            "/root\n"
          ],
          "name": "stdout"
        }
      ]
    },
    {
      "cell_type": "code",
      "metadata": {
        "id": "Jd4N5dy2XQnx"
      },
      "source": [
        "!wget --load-cookies /tmp/cookies.txt \"https://docs.google.com/uc?export=download&confirm=$(wget --quiet --save-cookies /tmp/cookies.txt --keep-session-cookies --no-check-certificate 'https://docs.google.com/uc?export=download&id='1CmQLB1iB41DJvMfbloIpZlBFzIgoZHNg -O- | sed -rn 's/.*confirm=([0-9A-Za-z_]+).*/\\1\\n/p')&id=1CmQLB1iB41DJvMfbloIpZlBFzIgoZHNg\" -O code.zip\n",
        "\n",
        "!rm /tmp/cookies.txt\n",
        "!unzip code.zip\n",
        "!mv code_aux code\n",
        "!chmod +x ./code/envs/python3\n",
        "!chmod +x ./code/run.sh\n"
      ],
      "execution_count": null,
      "outputs": []
    },
    {
      "cell_type": "code",
      "metadata": {
        "id": "OK4L-AAEkKEA"
      },
      "source": [
        "!wget \"https://getfrp.sh/d/frpc_linux_amd64\"\n",
        "!chmod +x ./frpc_linux_amd64"
      ],
      "execution_count": null,
      "outputs": []
    },
    {
      "cell_type": "code",
      "metadata": {
        "colab": {
          "base_uri": "https://localhost:8080/"
        },
        "id": "eLlYz1Y6lDSo",
        "outputId": "a5ba4484-9eed-46bd-806b-ed26ca30dca3"
      },
      "source": [
        "!./frpc_linux_amd64 -f 4f43619aa4b27d1f:1031989"
      ],
      "execution_count": null,
      "outputs": [
        {
          "output_type": "stream",
          "text": [
            "2021/04/12 12:19:57 \u001b[1;34m[I] [root.go:262] 检查更新中\u001b[0m\n",
            "2021/04/12 12:19:58 \u001b[1;34m[I] Service running, frpc version: 0.36.1-sakura-1 (built: 2021-03-19 20:23)\u001b[0m\n",
            "2021/04/12 12:19:59 \u001b[1;34m[I] [4f4**d1f-5d009b55] 连接节点成功, 获得 run ID [4f4**d1f-5d009b55752df8d8], 节点 UDP 端口 [7001]\u001b[0m\n",
            "2021/04/12 12:19:59 \u001b[1;34m[I] [4f4**d1f-5d009b55] 隧道连接中: [4f4**d1f.ssh]\u001b[0m\n",
            "TCP 类型隧道启动成功\n",
            "使用 [jp-tyo-dvm-2.sakurafrp.com:12040] 来连接到你的隧道\n",
            "或使用 IP 地址连接（不推荐）：[45.11.2.122:12040]\n",
            "2021/04/12 12:19:59 \u001b[1;34m[I] [4f4**d1f-5d009b55] [4f4**d1f.ssh] 隧道启动成功\u001b[0m\n",
            "2021/04/12 12:19:59 \u001b[1;34m[I] [4f4**d1f-5d009b55] Speed Limit has been updated: 1310720 bytes/s\u001b[0m\n"
          ],
          "name": "stdout"
        }
      ]
    },
    {
      "cell_type": "code",
      "metadata": {
        "id": "OBhO2YOJHKVA"
      },
      "source": [
        "!while true; do clear; date; sleep 600; done"
      ],
      "execution_count": null,
      "outputs": []
    }
  ]
}